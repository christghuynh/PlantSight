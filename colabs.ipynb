!pip install ultralytics -q
from ultralytics import YOLO
model = YOLO("yolov8m.pt")
!touch data.yaml
model.train(data="/content/data.yaml", epochs=2)
